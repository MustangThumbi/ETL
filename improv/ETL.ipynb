{
 "cells": [
  {
   "cell_type": "code",
   "execution_count": 16,
   "metadata": {},
   "outputs": [],
   "source": [
    "import re\n",
    "import csv\n",
    "import json\n",
    "import xml.etree.ElementTree as ET\n"
   ]
  },
  {
   "cell_type": "code",
   "execution_count": 17,
   "metadata": {},
   "outputs": [],
   "source": [
    "# Create an empty list to store the strings with missing quotes\n",
    "missing_quotes_list = []\n"
   ]
  },
  {
   "cell_type": "code",
   "execution_count": 32,
   "metadata": {},
   "outputs": [],
   "source": [
    "tree = ET.parse(\"user_data.xml\")\n",
    "root = tree.getroot()\n",
    "csv_file = open('user_data_xml.csv', 'w')\n",
    "csv_writer = csv.writer(csv_file)\n"
   ]
  },
  {
   "cell_type": "code",
   "execution_count": 33,
   "metadata": {},
   "outputs": [
    {
     "data": {
      "text/plain": [
       "125"
      ]
     },
     "execution_count": 33,
     "metadata": {},
     "output_type": "execute_result"
    }
   ],
   "source": [
    "list_head = []\n",
    "list_head.append('firstName')\n",
    "list_head.append('lastName')\n",
    "list_head.append('age')\n",
    "list_head.append('sex')\n",
    "list_head.append('phone')\n",
    "list_head.append('retired')\n",
    "list_head.append('dependants')\n",
    "list_head.append('marital_status')\n",
    "list_head.append('salary')\n",
    "list_head.append('pension')\n",
    "list_head.append('company')\n",
    "list_head.append('commute_distance')\n",
    "list_head.append('address_postcode')\n",
    "\n",
    "csv_writer.writerow(list_head)\n",
    "\n",
    "\n"
   ]
  },
  {
   "cell_type": "code",
   "execution_count": 40,
   "metadata": {},
   "outputs": [],
   "source": [
    "# loop through the xml file and write the data to the csv file\n",
    "for member in root.findall('member'):\n",
    "    list_data = []\n",
    "    list_data.append(member.find('firstName').text)\n",
    "    list_data.append(member.find('lastName').text)\n",
    "    list_data.append(member.find('age').text)\n",
    "    list_data.append(member.find('sex').text)\n",
    "    list_data.append(member.find('phone').text)\n",
    "    list_data.append(member.find('retired').text)\n",
    "    list_data.append(member.find('dependants').text)\n",
    "    list_data.append(member.find('marital_status').text)\n",
    "    list_data.append(member.find('salary').text)\n",
    "    list_data.append(member.find('pension').text)\n",
    "    list_data.append(member.find('company').text)\n",
    "    list_data.append(member.find('commute_distance').text)\n",
    "    list_data.append(member.find('address').find('postcode').text)\n",
    "\n",
    "    list_data.append(first_name)\n",
    "    list_data.append(last_name)\n",
    "    list_data.append(age)\n",
    "    list_data.append(sex)\n",
    "    list_data.append(phone)\n",
    "    list_data.append(retired)\n",
    "    list_data.append(dependants)\n",
    "    list_data.append(marital_status)\n",
    "    list_data.append(salary)\n",
    "    list_data.append(pension)\n",
    "    list_data.append(company)\n",
    "    list_data.append(commute_distance)\n",
    "    list_data.append(address_postcode)\n",
    "\n",
    "    csv_writer.writerow(list_data)\n",
    "    \n",
    "\n",
    "\n"
   ]
  },
  {
   "cell_type": "code",
   "execution_count": 41,
   "metadata": {},
   "outputs": [],
   "source": [
    "# Read the CSV file\n",
    "with open('user_data.csv', 'r') as csv_file:\n",
    "    csv_reader = csv.reader(csv_file)\n",
    "    for row in csv_reader:\n",
    "        # Find strings with missing quotes using regular expression ignore none strings and empty strings\n",
    "        matches = re.findall(r'(?<!\\\\)\"[^\"]*(?<!\\\\)\"', row[0])\n",
    "      \n",
    "        # Add the strings to the list\n",
    "        missing_quotes_list.extend(matches)\n"
   ]
  },
  {
   "cell_type": "code",
   "execution_count": 42,
   "metadata": {},
   "outputs": [],
   "source": [
    "# Read the TXT file\n",
    "with open('user_data.txt', 'r') as txt_file:\n",
    "    txt_data = txt_file.read()\n",
    "    # Find strings with missing quotes using regular expression\n",
    "    matches = re.findall(r'[^\"\\s][^\\s]*[^\"\\s]', txt_data)\n",
    "    # Add the strings to the list\n",
    "    missing_quotes_list.extend(matches)\n"
   ]
  },
  {
   "cell_type": "code",
   "execution_count": 43,
   "metadata": {},
   "outputs": [],
   "source": [
    "# Read the XML file\n",
    "# Read the CSV file\n",
    "with open('user_data_xml.csv', 'r') as csv_file:\n",
    "    csv_reader = csv.reader(csv_file)\n",
    "    for row in csv_reader:\n",
    "        # Find strings with missing quotes using regular expression ignore none strings and empty strings\n",
    "        matches = re.findall(r'(?<!\\\\)\"[^\"]*(?<!\\\\)\"', row[0])\n",
    "\n",
    "        # Add the strings to the list\n",
    "        missing_quotes_list.extend(matches)\n"
   ]
  },
  {
   "cell_type": "code",
   "execution_count": 44,
   "metadata": {},
   "outputs": [],
   "source": [
    "# Write the strings to an Excel file\n",
    "with open('missing_quotes.csv', 'w') as csv_file:\n",
    "    csv_writer = csv.writer(csv_file)\n",
    "    for string in missing_quotes_list:\n",
    "        csv_writer.writerow([string])\n"
   ]
  },
  {
   "cell_type": "code",
   "execution_count": 45,
   "metadata": {},
   "outputs": [
    {
     "name": "stdout",
     "output_type": "stream",
     "text": [
      "['Shane', 'Chambers', 'e-mailed', 'in', 'overnight', '(Full', 'details', 'in', 'Ticket', '#1839).', 'During', 'account', 'creation', 'something', 'went', 'wrong', 'and', 'their', 'security', 'code', 'is', 'wrong', 'on', 'their', 'billing', 'information.', 'Bank', 'is', 'rejecting', 'any', 'payment', 'until', \"it's\", 'corrected.', \"They're\", 'not', 'sure', 'what', 'happened,', 'but', 'said', 'to', 'try', '935\".', 'Can', 'you', 'please', 'action', 'this', 'and', 'try', 're-bill', 'the', 'client?', 'Let', 'me', 'know', 'if', \"there's\", 'any', 'further', 'issues', 'with', 'it.', 'Thanks', 'Congratulations', 'on', 'the', 'promotion', 'Lane!', 'We', \"wouldn't\", 'have', 'survived', 'through', 'the', 'pandemic', 'without', 'you', 'and', 'your', 'team.', 'As', 'token', 'of', 'our', 'appreciation,', \"we've\", 'given', 'you', '£2100', 'salary', 'bump.', 'This', 'will', 'take', 'effect', 'as', 'of', 'next', \"month's\", 'payroll.', 'At', 'Lewis-Johnson', 'we', 'value', 'the', 'care', 'and', 'work', 'you', 'put', 'in.', 'See', 'you', 'on', 'Monday', 'Joshua,', 'enjoy!', 'Happy', 'Birthday', 'Ms', 'Suzanne', 'Wright!', \"You're\", '37', 'today.', 'Our', 'latest', 'offers', 'will', 'be', 'sure', 'to', 'get', 'you', 'into', 'the', 'party', 'spirit!', 'Hannah,', 'the', 'pension', 'policy', 'has', 'changed', 'slightly', 'since', 'the', 'meeting', 'last', 'week.', 'know', \"you've\", 'just', 'finished', 'putting', 'through', 'all', 'the', 'changes,', 'but', 'need', 'you', 'to', 'look', 'at', 'Mr', \"Dunn's\", 'file.', \"We'll\", 'need', 'to', 'modify', 'it', 'by', 'adding', 'another', '0.15%', 'on', 'top', 'of', 'the', 'existing', '£22358.', 'Drop', 'me', 'message', 'when', \"you've\", 'done', 'this', 'please,', \"it's\", 'quite', 'urgent.', 'Shane', 'Chambers', 'e-mailed', 'in', 'overnight', '(Full', 'details', 'in', 'Ticket', '#1839).', 'During', 'account', 'creation', 'something', 'went', 'wrong', 'and', 'their', 'security', 'code', 'is', 'wrong', 'on', 'their', 'billing', 'information.', 'Bank', 'is', 'rejecting', 'any', 'payment', 'until', \"it's\", 'corrected.', \"They're\", 'not', 'sure', 'what', 'happened,', 'but', 'said', 'to', 'try', '935\".', 'Can', 'you', 'please', 'action', 'this', 'and', 'try', 're-bill', 'the', 'client?', 'Let', 'me', 'know', 'if', \"there's\", 'any', 'further', 'issues', 'with', 'it.', 'Thanks', 'Congratulations', 'on', 'the', 'promotion', 'Lane!', 'We', \"wouldn't\", 'have', 'survived', 'through', 'the', 'pandemic', 'without', 'you', 'and', 'your', 'team.', 'As', 'token', 'of', 'our', 'appreciation,', \"we've\", 'given', 'you', '£2100', 'salary', 'bump.', 'This', 'will', 'take', 'effect', 'as', 'of', 'next', \"month's\", 'payroll.', 'At', 'Lewis-Johnson', 'we', 'value', 'the', 'care', 'and', 'work', 'you', 'put', 'in.', 'See', 'you', 'on', 'Monday', 'Joshua,', 'enjoy!', 'Happy', 'Birthday', 'Ms', 'Suzanne', 'Wright!', \"You're\", '37', 'today.', 'Our', 'latest', 'offers', 'will', 'be', 'sure', 'to', 'get', 'you', 'into', 'the', 'party', 'spirit!', 'Hannah,', 'the', 'pension', 'policy', 'has', 'changed', 'slightly', 'since', 'the', 'meeting', 'last', 'week.', 'know', \"you've\", 'just', 'finished', 'putting', 'through', 'all', 'the', 'changes,', 'but', 'need', 'you', 'to', 'look', 'at', 'Mr', \"Dunn's\", 'file.', \"We'll\", 'need', 'to', 'modify', 'it', 'by', 'adding', 'another', '0.15%', 'on', 'top', 'of', 'the', 'existing', '£22358.', 'Drop', 'me', 'message', 'when', \"you've\", 'done', 'this', 'please,', \"it's\", 'quite', 'urgent.']\n"
     ]
    }
   ],
   "source": [
    "# Print the list of strings with missing quotes\n",
    "print(missing_quotes_list)\n"
   ]
  }
 ],
 "metadata": {
  "kernelspec": {
   "display_name": "Python 3",
   "language": "python",
   "name": "python3"
  },
  "language_info": {
   "codemirror_mode": {
    "name": "ipython",
    "version": 3
   },
   "file_extension": ".py",
   "mimetype": "text/x-python",
   "name": "python",
   "nbconvert_exporter": "python",
   "pygments_lexer": "ipython3",
   "version": "3.10.9"
  },
  "orig_nbformat": 4,
  "vscode": {
   "interpreter": {
    "hash": "e7370f93d1d0cde622a1f8e1c04877d8463912d04d973331ad4851f04de6915a"
   }
  }
 },
 "nbformat": 4,
 "nbformat_minor": 2
}
